{
  "cells": [
    {
      "cell_type": "markdown",
      "id": "fa2f6537113e5fc2",
      "metadata": {
        "collapsed": false,
        "id": "fa2f6537113e5fc2"
      },
      "source": [
        "\n",
        "<br>\n",
        "<font>\n",
        "<div dir=ltr align=center>\n",
        "<img src=\"https://cdn.freebiesupply.com/logos/large/2x/sharif-logo-png-transparent.png\" width=150 height=150> <br>\n",
        "<font color=0F5298 size=7>\n",
        "Artificial Intelligence <br>\n",
        "<font color=2565AE size=5>\n",
        "Computer Engineering Department <br>\n",
        "Spring 2024<br>\n",
        "<font color=3C99D size=5>\n",
        "Practical Assignment 1 - Search Algorithms <br>\n",
        "<font color=696880 size=4>\n",
        "Amir Mohammad Fakhimi\n",
        "\n",
        "\n",
        "____"
      ]
    },
    {
      "cell_type": "markdown",
      "id": "a3f5bd2d-4b6c-4682-99a8-55d9c9164561",
      "metadata": {
        "id": "a3f5bd2d-4b6c-4682-99a8-55d9c9164561"
      },
      "source": [
        "# Personal Data"
      ]
    },
    {
      "cell_type": "code",
      "execution_count": null,
      "id": "6600fbd1-6f48-4f02-971e-6aee32c82d0c",
      "metadata": {
        "ExecuteTime": {
          "end_time": "2024-02-16T12:59:46.745724Z",
          "start_time": "2024-02-16T12:59:46.722567Z"
        },
        "id": "6600fbd1-6f48-4f02-971e-6aee32c82d0c"
      },
      "outputs": [],
      "source": [
        "# Set your student number and name\n",
        "student_number = 401105901\n",
        "Name = \"Amirardalan\"\n",
        "Last_Name = \"Dehghanpour\""
      ]
    },
    {
      "cell_type": "markdown",
      "id": "39400a82-6b02-4f38-b6b5-230885ea26fa",
      "metadata": {
        "id": "39400a82-6b02-4f38-b6b5-230885ea26fa"
      },
      "source": [
        "# Rules"
      ]
    },
    {
      "cell_type": "markdown",
      "id": "adb839db-ff96-43bc-954a-3582b536f6d2",
      "metadata": {
        "id": "adb839db-ff96-43bc-954a-3582b536f6d2"
      },
      "source": [
        "<font color=red>\n",
        "Please run all the cells.\n",
        "</font>"
      ]
    },
    {
      "cell_type": "markdown",
      "id": "d0f958d0-5146-4aa1-b691-b8e610d7d39a",
      "metadata": {
        "id": "d0f958d0-5146-4aa1-b691-b8e610d7d39a"
      },
      "source": [
        "# Libraries"
      ]
    },
    {
      "cell_type": "code",
      "execution_count": null,
      "id": "d972b52ea18facd5",
      "metadata": {
        "ExecuteTime": {
          "end_time": "2024-02-16T12:59:52.340311Z",
          "start_time": "2024-02-16T12:59:46.844041Z"
        },
        "id": "d972b52ea18facd5"
      },
      "outputs": [],
      "source": [
        "# import libraries here\n",
        "\n",
        "from abc import abstractmethod\n",
        "import numpy as np\n",
        "from numpy import random\n",
        "import pandas as pd"
      ]
    },
    {
      "cell_type": "markdown",
      "id": "2087151a-2cba-42cb-a9b9-a40068f3bfb8",
      "metadata": {
        "id": "2087151a-2cba-42cb-a9b9-a40068f3bfb8"
      },
      "source": [
        "# Q1: Uninformed Search (DFS, BFS, IDS, A*) (100 Points)"
      ]
    },
    {
      "cell_type": "markdown",
      "id": "6197a1748c274030",
      "metadata": {
        "collapsed": false,
        "id": "6197a1748c274030"
      },
      "source": [
        "In this jupyter notebook, we aim to implement four uninformed search algorithms: DFS, BFS, IDS, and A*. We also implement a maze class to test the algorithms."
      ]
    },
    {
      "cell_type": "markdown",
      "id": "dd23e885-3497-49f9-aff6-7189de4890a7",
      "metadata": {
        "id": "dd23e885-3497-49f9-aff6-7189de4890a7"
      },
      "source": [
        "## Tile\n",
        "Each tile is one maze's square. Each part has a (x, y) coordinate. Also it has g (the cost until now), h (heuristic) and f (sum of g and h)."
      ]
    },
    {
      "cell_type": "code",
      "execution_count": null,
      "id": "initial_id",
      "metadata": {
        "ExecuteTime": {
          "end_time": "2024-02-16T12:59:52.354919Z",
          "start_time": "2024-02-16T12:59:52.345655Z"
        },
        "id": "initial_id"
      },
      "outputs": [],
      "source": [
        "class Tile:\n",
        "    def __init__(self, x, y):\n",
        "        self.x = x\n",
        "        self.y = y\n",
        "\n",
        "        self.g = 0\n",
        "        self.h = 0\n",
        "        self.f = 0\n",
        "\n",
        "        self.parent = None\n",
        "        self.nextNode= None\n",
        "\n",
        "    def __eq__(self, other):\n",
        "        return self.x == other.x and self.y == other.y\n",
        "\n",
        "    def __repr__(self):\n",
        "        return f'({self.x}, {self.y})'"
      ]
    },
    {
      "cell_type": "markdown",
      "id": "cfc3820a-111f-437e-9ee3-a2ca54ad8cfb",
      "metadata": {
        "id": "cfc3820a-111f-437e-9ee3-a2ca54ad8cfb"
      },
      "source": [
        "## Maze\n",
        "It has a map attribute. It's a 2d array of a string type. Each index is one of the following strings:\n",
        "- '0': A free index which the agent can move to.\n",
        "- '1': A wall which the agent can't move to.\n",
        "- 'S': The start point of the agent.\n",
        "- 'E': The end point of the agent.\n",
        "- 'V': The tiles that the agent has visited. It is used in the [visualizer website](https://project.amfakhimi.com/maze-visualizer), not in this jupyter notebook.\n",
        "- 'P': The path that the agent has moved through. It appears after the agent has found the path in the `print_path` function of the `Algorithm` class.\n",
        "\n",
        "It has three types of initialization:\n",
        "- a tuple (a, b): a is the height of the map, and b is the width of the map. It generates a random map with 80% of '0' and 20% of '1' and sets the start and end points randomly. It is suggested to use it after setting the `random.seed` to a constant number.\n",
        "- a string: the path of a csv file which contains the map. You can export your customized map from [here](https://project.amfakhimi.com/maze-visualizer).\n",
        "- a list or a numpy array: the map itself. It should have 'S' and 'E' in it.\n",
        "\n",
        "The most important methods are:\n",
        "- `get_tile`: It returns the value of the tile in the given (x, y) coordinate. Pay attention that the first index is y and the second one is x.\n",
        "- `export_map`: It exports the map to a csv file. You don't need to use it in this assignment.\n",
        "- `print_map`: It prints the map in the console to visualize it.\n",
        "\n",
        "You can create your own map [here](https://project.amfakhimi.com/maze-visualizer).  Before exporting the map, clear the map, first."
      ]
    },
    {
      "cell_type": "code",
      "execution_count": null,
      "id": "7fdb851d-71d0-4d34-b24e-1c0a254d4f1c",
      "metadata": {
        "ExecuteTime": {
          "end_time": "2024-02-16T12:59:52.390893Z",
          "start_time": "2024-02-16T12:59:52.359838Z"
        },
        "id": "7fdb851d-71d0-4d34-b24e-1c0a254d4f1c"
      },
      "outputs": [],
      "source": [
        "class Maze:\n",
        "    def __init__(self, map, name):\n",
        "        self.name = name\n",
        "\n",
        "        if type(map) == tuple:\n",
        "            self.height = map[0]\n",
        "            self.width = map[1]\n",
        "            self.map = np.zeros((self.height, self.width), dtype=str)\n",
        "            self.start = Tile(0, 0)\n",
        "            self.end = Tile(self.width - 1, self.height - 1)\n",
        "\n",
        "            for y in range(self.height):\n",
        "                for x in range(self.width):\n",
        "                    if x == self.start.x and y == self.start.y:\n",
        "                        self.map[y][x] = 'S'\n",
        "                    elif x == self.end.x and y == self.end.y:\n",
        "                        self.map[y][x] = 'E'\n",
        "                    else:\n",
        "                        self.map[y][x] = random.choice(['0', '1'], p=[0.8, 0.2])\n",
        "\n",
        "        elif type(map) == str:\n",
        "            map_csv = pd.read_csv(map, header=None, dtype=str)\n",
        "            self.map = map_csv.values\n",
        "            for y, row in enumerate(self.map):\n",
        "                for x, char in enumerate(row):\n",
        "                    if char == 'V' or char == 'P':\n",
        "                        self.map[y][x] = '0'\n",
        "\n",
        "        elif type(map) == list or type(map) == np.ndarray:\n",
        "            self.map = np.array(map)\n",
        "        else:\n",
        "            raise ValueError('Invalid map type')\n",
        "\n",
        "        self.width = len(self.map[0])\n",
        "        self.height = len(self.map)\n",
        "        self.initial_map = map\n",
        "\n",
        "        self.start = None\n",
        "        self.end = None\n",
        "        for y, row in enumerate(self.map):\n",
        "            for x, char in enumerate(row):\n",
        "                if char == 'S':\n",
        "                    self.start = Tile(x, y)\n",
        "                elif char == 'E':\n",
        "                    self.end = Tile(x, y)\n",
        "\n",
        "        if self.start is None or self.end is None:\n",
        "            raise ValueError('Map must contain a start and end point')\n",
        "\n",
        "    def set_tile(self, x, y, value):\n",
        "        if value != 'S' and value != 'E' and value != 'P' and value != '0' and value != '1':\n",
        "            raise ValueError('Invalid tile value')\n",
        "\n",
        "        self.map[y][x] = value\n",
        "\n",
        "    def get_tile(self, x, y):\n",
        "        return self.map[y][x]\n",
        "\n",
        "    def export_map(self, file_path):\n",
        "        csv = pd.DataFrame(self.map)\n",
        "        if file_path is not None:\n",
        "            csv.to_csv(file_path, index=False, header=False)\n",
        "\n",
        "        return csv\n",
        "\n",
        "    def print_map(self):\n",
        "        for row in self.map:\n",
        "            print(''.join([str(x) for x in row]))"
      ]
    },
    {
      "cell_type": "markdown",
      "id": "16845222f4274529",
      "metadata": {
        "collapsed": false,
        "id": "16845222f4274529"
      },
      "source": [
        "## Algorithms (DFS, BFS, IDS, A*) (80 Points)\n",
        "It has the following attributes:\n",
        "- `maze`: The maze object.\n",
        "- `open_list`: A list of tiles that are not visited yet and we get the tile with lowest f by iterating through it.\n",
        "- `closed_list`: A list of tiles that are visited.\n",
        "- `path`: The path that the agent has found.\n",
        "\n",
        "The most important methods are:\n",
        "- `get_neighbors` (You should implement it -> 10 points): It returns the neighbors of the given tile.\n",
        "- `solve` (You should implement it -> 70 points): It solves the maze. You should use and fill the `open_list` and `closed_list` and `path` attributes. You should also determine if there's no path to the end point. It is an abstract method, and you should implement it in the subclasses. DFS has 10 points, BFS has 10 points, IDS has 20 points, and A* has 30 points. It has 70 points in total.\n",
        "- `print_path`: It prints the map with the path that the agent has found.\n",
        "- `export_closed_list`: It exports the closed list to a csv file. You don't need to use it in this assignment directly.\n",
        "- `export_path`: It exports the path to a csv file. You don't need to use it in this assignment directly.\n",
        "\n",
        "You should implement the `get_neighbors` in `Algorithm` class and `solve` in the subclasses (DFS, BFS, IDS, A*). You are free to add any other methods or attributes to the classes. (10 + 70 = 80 points)"
      ]
    },
    {
      "cell_type": "code",
      "execution_count": null,
      "id": "e095ada2c9d16e05",
      "metadata": {
        "ExecuteTime": {
          "end_time": "2024-02-16T12:59:52.424928Z",
          "start_time": "2024-02-16T12:59:52.399328Z"
        },
        "id": "e095ada2c9d16e05"
      },
      "outputs": [],
      "source": [
        "class Algorithm:\n",
        "    def __init__(self, maze):\n",
        "        self.maze = maze\n",
        "        self.open_list = []\n",
        "        self.closed_list = []\n",
        "        self.path = []\n",
        "    def get_neighbors(self, tile):\n",
        "        neighbors = []\n",
        "        if tile.y<self.maze.height-1:\n",
        "          adding_tile=Tile(tile.x,tile.y+1)\n",
        "          neighbors.append(adding_tile)\n",
        "        if tile.y>0:\n",
        "          adding_tile=Tile(tile.x,tile.y-1)\n",
        "          neighbors.append(adding_tile)\n",
        "        if tile.x<self.maze.width-1:\n",
        "          adding_tile=Tile(tile.x+1, tile.y)\n",
        "          neighbors.append(adding_tile)\n",
        "        if tile.x>0:\n",
        "          adding_tile=Tile(tile.x-1, tile.y)\n",
        "          neighbors.append(adding_tile)\n",
        "\n",
        "\n",
        "        # TODO\n",
        "\n",
        "        return neighbors\n",
        "\n",
        "    def get_tile_from_list(self, tile, tile_list):\n",
        "        for t in tile_list:\n",
        "            if t == tile:\n",
        "                return t\n",
        "\n",
        "        return None\n",
        "\n",
        "    def get_tile_from_open_list(self, tile):\n",
        "        return self.get_tile_from_list(tile, self.open_list)\n",
        "\n",
        "    def get_tile_from_closed_list(self, tile):\n",
        "        return self.get_tile_from_list(tile, self.closed_list)\n",
        "\n",
        "    def is_tile_in_list(self, tile, tile_list):\n",
        "        for t in tile_list:\n",
        "            if t == tile:\n",
        "                return True\n",
        "        return False\n",
        "\n",
        "    def is_tile_in_open_list(self, tile):\n",
        "        return self.is_tile_in_list(tile, self.open_list)\n",
        "\n",
        "    def is_tile_in_closed_list(self, tile):\n",
        "        return self.is_tile_in_list(tile, self.closed_list)\n",
        "\n",
        "    def is_tile_walkable(self, tile):\n",
        "        return self.maze.get_tile(tile.x, tile.y) != '1'\n",
        "\n",
        "    @abstractmethod\n",
        "    def solve(self):\n",
        "        pass\n",
        "\n",
        "    def print_path(self, path):\n",
        "        if path is None:\n",
        "            print('No path found')\n",
        "            return\n",
        "\n",
        "        for y, row in enumerate(self.maze.map):\n",
        "            for x, char in enumerate(row):\n",
        "                if Tile(x, y) in path and char != 'S' and char != 'E':\n",
        "                    print('P', end='')\n",
        "                else:\n",
        "                    print(char, end='')\n",
        "            print()\n",
        "\n",
        "    def export_closed_list(self, file_path):\n",
        "        closed_list = [[]]\n",
        "        for tile in self.closed_list:\n",
        "            closed_list[0].append(tile.x)\n",
        "            closed_list[0].append(tile.y)\n",
        "\n",
        "        csv = pd.DataFrame(closed_list)\n",
        "        if file_path is not None:\n",
        "            csv.to_csv(file_path, index=False, header=False)\n",
        "\n",
        "        return csv\n",
        "\n",
        "    def export_path(self, file_path):\n",
        "        path = [[]]\n",
        "        for tile in self.path:\n",
        "            path[0].append(tile.x)\n",
        "            path[0].append(tile.y)\n",
        "\n",
        "        csv = pd.DataFrame(path)\n",
        "        if file_path is not None:\n",
        "            csv.to_csv(file_path, index=False, header=False)\n",
        "        return csv"
      ]
    },
    {
      "cell_type": "code",
      "execution_count": null,
      "id": "1b049121c997f8ba",
      "metadata": {
        "ExecuteTime": {
          "end_time": "2024-02-16T12:59:52.439651Z",
          "start_time": "2024-02-16T12:59:52.427818Z"
        },
        "id": "1b049121c997f8ba"
      },
      "outputs": [],
      "source": [
        "class DFS(Algorithm):\n",
        "    def __init__(self, maze):\n",
        "        super().__init__(maze)\n",
        "\n",
        "    def solve(self):\n",
        "      start_dfs=self.maze.start\n",
        "      if(self.dfs_recursive(start_dfs)==False):\n",
        "        self.path=[]\n",
        "        print(\"Not path is found\")\n",
        "        return\n",
        "    def dfs_recursive(self,start_dfs):\n",
        "      self.closed_list.append(start_dfs)\n",
        "      if(start_dfs==self.maze.end):\n",
        "         show_dfs=start_dfs\n",
        "         while True:\n",
        "          self.path.append(show_dfs)\n",
        "          if(show_dfs==self.maze.start):\n",
        "            break\n",
        "          show_dfs=show_dfs.parent\n",
        "         self.path.reverse()\n",
        "         return True\n",
        "      tile_neighbors=self.get_neighbors(start_dfs)\n",
        "      for tile in tile_neighbors:\n",
        "        if(self.is_tile_walkable(tile) and self.is_tile_in_closed_list(tile)==False):\n",
        "          tile.parent=start_dfs\n",
        "          if(self.dfs_recursive(tile)):\n",
        "              return True\n",
        "      return False\n",
        "\n",
        "      pass"
      ]
    },
    {
      "cell_type": "code",
      "execution_count": null,
      "id": "9d5ac3045555ebb0",
      "metadata": {
        "ExecuteTime": {
          "end_time": "2024-02-16T12:59:52.457534Z",
          "start_time": "2024-02-16T12:59:52.443574Z"
        },
        "id": "9d5ac3045555ebb0"
      },
      "outputs": [],
      "source": [
        "from queue import Queue\n",
        "class BFS(Algorithm):\n",
        "    def __init__(self, maze):\n",
        "        super().__init__(maze)\n",
        "\n",
        "    def solve(self):\n",
        "        starting_tile=self.maze.start\n",
        "        my_queue=Queue()\n",
        "        my_queue.put(starting_tile)\n",
        "        self.closed_list.append(starting_tile)\n",
        "        while  True:\n",
        "          bfs_tile=my_queue.get()\n",
        "          tile_neighbors=self.get_neighbors(bfs_tile)\n",
        "          for tile in tile_neighbors:\n",
        "            if(tile==self.maze.end):\n",
        "              self.maze.end.parent=bfs_tile\n",
        "              show_path=self.maze.end\n",
        "              while True:\n",
        "               self.path.append(show_path)\n",
        "               if(show_path==self.maze.start):\n",
        "                self.path.reverse()\n",
        "                return 1\n",
        "               show_path=show_path.parent\n",
        "            if(self.is_tile_walkable(tile) and self.is_tile_in_closed_list(tile)==False):\n",
        "              self.closed_list.append(tile)\n",
        "              my_queue.put(tile)\n",
        "              tile.parent=bfs_tile\n",
        "          if(my_queue.empty()):\n",
        "            self.path=[]\n",
        "            print(\"No path found\")\n",
        "            return 0\n",
        "        pass"
      ]
    },
    {
      "cell_type": "code",
      "execution_count": null,
      "id": "33ccd936044bcb7d",
      "metadata": {
        "ExecuteTime": {
          "end_time": "2024-02-16T12:59:52.479311Z",
          "start_time": "2024-02-16T12:59:52.461964Z"
        },
        "id": "33ccd936044bcb7d"
      },
      "outputs": [],
      "source": [
        "class IDS(Algorithm):\n",
        "    def __init__(self, maze):\n",
        "        super().__init__(maze)\n",
        "\n",
        "    def solve(self):\n",
        "      limit=1\n",
        "      index=0\n",
        "      while True:\n",
        "        start_point=self.maze.start\n",
        "        if(self.dfs_limited(start_point,index,limit)):\n",
        "          return\n",
        "        self.closed_list.clear()\n",
        "        limit=limit+1\n",
        "\n",
        "    def dfs_limited(self,start,index,limit):\n",
        "      if index>limit:\n",
        "        return False\n",
        "      self.closed_list.append(start)\n",
        "      if(start==self.maze.end):\n",
        "         show_dfs=start\n",
        "         while True:\n",
        "          self.path.append(show_dfs)\n",
        "          if(show_dfs==self.maze.start):\n",
        "            break\n",
        "          show_dfs=show_dfs.parent\n",
        "         self.path.reverse()\n",
        "         return True\n",
        "      tile_neighbors=self.get_neighbors(start)\n",
        "      for tile in tile_neighbors:\n",
        "        if(self.is_tile_walkable(tile) and self.is_tile_in_closed_list(tile)==False):\n",
        "          tile.parent=start\n",
        "          if(self.dfs_limited((tile),index+1,limit)):\n",
        "              return True\n",
        "      return False\n",
        "\n",
        "\n",
        "\n",
        "        # TODO\n",
        "    pass"
      ]
    },
    {
      "cell_type": "code",
      "execution_count": 89,
      "id": "619c4e9ee3c261df",
      "metadata": {
        "ExecuteTime": {
          "end_time": "2024-02-16T12:59:54.376084Z",
          "start_time": "2024-02-16T12:59:54.359821Z"
        },
        "id": "619c4e9ee3c261df"
      },
      "outputs": [],
      "source": [
        "import math\n",
        "class AStar(Algorithm):\n",
        "    def __init__(self, maze):\n",
        "        super().__init__(maze)\n",
        "\n",
        "    def get_tile_with_lowest_f(self):\n",
        "        lowest_f = self.open_list[0]\n",
        "\n",
        "        for tile in self.open_list:\n",
        "            if tile.f < lowest_f.f:\n",
        "                lowest_f = tile\n",
        "\n",
        "        return lowest_f\n",
        "\n",
        "    def get_h(self, tile):\n",
        "      return math.sqrt((self.maze.end.x-tile.x)**2+(self.maze.end.y-tile.y)**2)\n",
        "        # TODO\n",
        "      pass\n",
        "\n",
        "    def get_f(self, tile):\n",
        "        return tile.g+tile.h\n",
        "\n",
        "    def solve(self):\n",
        "      start_astar=self.maze.start\n",
        "      start_astar.g=0\n",
        "      start_astar.h=self.get_h(start_astar)\n",
        "      self.open_list.append(start_astar)\n",
        "      while len(self.open_list)!=0:\n",
        "        start_astar=self.get_tile_with_lowest_f()\n",
        "        self.closed_list.append(start_astar)\n",
        "        self.open_list.remove(start_astar)\n",
        "        tile_neighbors=self.get_neighbors(start_astar)\n",
        "        if(start_astar==self.maze.end):\n",
        "          show_dfs=start_astar\n",
        "          while True:\n",
        "           self.path.append(show_dfs)\n",
        "           if(show_dfs==self.maze.start):\n",
        "            break\n",
        "           show_dfs=show_dfs.parent\n",
        "          self.path.reverse()\n",
        "          return True\n",
        "        for tile in tile_neighbors:\n",
        "          if(self.is_tile_walkable(tile) and self.is_tile_in_closed_list(tile)==False and self.is_tile_in_open_list(tile)==False):\n",
        "            tile.g=start_astar.g+1\n",
        "            tile.h=self.get_h(tile)\n",
        "            tile.f=self.get_f(tile)\n",
        "            self.open_list.append(tile)\n",
        "            tile.parent=start_astar\n",
        "      print(\"No path found\")\n",
        "      self.path.clear()\n",
        "      return False\n",
        "\n",
        "        # TODO\n",
        "      pass"
      ]
    },
    {
      "cell_type": "markdown",
      "id": "57bee2525f1b66ac",
      "metadata": {
        "collapsed": false,
        "id": "57bee2525f1b66ac"
      },
      "source": [
        "The following cell exports all needed data. You can simply run it and upload its output in the [visualizer site](https://project.amfakhimi.com/maze-visualizer)."
      ]
    },
    {
      "cell_type": "code",
      "execution_count": 90,
      "id": "aac479f34cbc22f4",
      "metadata": {
        "ExecuteTime": {
          "end_time": "2024-02-16T12:59:56.460751Z",
          "start_time": "2024-02-16T12:59:56.454126Z"
        },
        "id": "aac479f34cbc22f4"
      },
      "outputs": [],
      "source": [
        "def export_all(maze, solver, merge_file_path):\n",
        "    map_csv = maze.export_map(None)\n",
        "    closed_list_csv = solver.export_closed_list(None)\n",
        "    path_csv = solver.export_path(None)\n",
        "\n",
        "    merge = pd.concat([closed_list_csv, path_csv, map_csv], axis=0)\n",
        "    merge.to_csv(merge_file_path, index=False, header=False)"
      ]
    },
    {
      "cell_type": "markdown",
      "id": "66be5e8428295b5b",
      "metadata": {
        "collapsed": false,
        "id": "66be5e8428295b5b"
      },
      "source": [
        "## Test (20 points)\n",
        "if you want to visualize the map, you can use `export_all` function and upload the output in the [visualizer site](https://project.amfakhimi.com/maze-visualizer).\n",
        "\n",
        "<br>\n",
        "<font size=5>\n",
        "After running below tests with seed 0 and (20, 20) as the maze's size, attach your outputs (4 outputs) to the final answer in Quera.\n",
        "<br>\n",
        "Your answers based on your implementations could be different from the expected answers, below. So, don't worry about the correctness of your answer. Just make sure that your code works correctly and you have attached the outputs."
      ]
    },
    {
      "cell_type": "code",
      "execution_count": 91,
      "id": "57ee8ad3dc386556",
      "metadata": {
        "ExecuteTime": {
          "end_time": "2024-02-16T12:59:59.713853Z",
          "start_time": "2024-02-16T12:59:59.683229Z"
        },
        "colab": {
          "base_uri": "https://localhost:8080/"
        },
        "id": "57ee8ad3dc386556",
        "outputId": "eb6ebe37-d09e-4dfe-d33e-ab0753202079"
      },
      "outputs": [
        {
          "name": "stdout",
          "output_type": "stream",
          "text": [
            "S0000000110000100010\n",
            "11000000100000000001\n",
            "00000000000001000000\n",
            "00000001010101000000\n",
            "00000000001000000001\n",
            "00001000001010010101\n",
            "00010000000000000000\n",
            "01001100101010001100\n",
            "00001110000000000010\n",
            "00000100000000100000\n",
            "00000000001100000000\n",
            "10100010010000000000\n",
            "01000000000010010001\n",
            "00001000000110101100\n",
            "10100001000001000011\n",
            "11000000000000000001\n",
            "00000000000000000000\n",
            "00000000001000000000\n",
            "10100100010000000010\n",
            "0101011100000010100E\n"
          ]
        }
      ],
      "source": [
        "random.seed(0)\n",
        "maze = Maze((20,20), 'map')\n",
        "# maze = Maze('./Map.csv', 'map')\n",
        "\n",
        "maze.print_map()"
      ]
    },
    {
      "cell_type": "code",
      "execution_count": 92,
      "id": "8c8a380ac801d411",
      "metadata": {
        "ExecuteTime": {
          "end_time": "2024-02-16T13:00:00.812315Z",
          "start_time": "2024-02-16T13:00:00.747203Z"
        },
        "colab": {
          "base_uri": "https://localhost:8080/"
        },
        "id": "8c8a380ac801d411",
        "outputId": "bfdfbd61-ac50-4ec2-ccc6-6480b8312f9c"
      },
      "outputs": [
        {
          "name": "stdout",
          "output_type": "stream",
          "text": [
            "[(0, 0), (1, 0), (2, 0), (2, 1), (2, 2), (2, 3), (2, 4), (2, 5), (2, 6), (2, 7), (2, 8), (2, 9), (2, 10), (3, 10), (3, 11), (3, 12), (3, 13), (3, 14), (3, 15), (3, 16), (3, 17), (3, 18), (4, 18), (4, 17), (4, 16), (4, 15), (4, 14), (5, 14), (5, 15), (5, 16), (5, 17), (6, 17), (6, 18), (7, 18), (7, 17), (7, 16), (7, 15), (8, 15), (8, 16), (8, 17), (8, 18), (8, 19), (9, 19), (10, 19), (10, 18), (11, 18), (11, 19), (12, 19), (12, 18), (12, 17), (12, 16), (12, 15), (13, 15), (13, 16), (13, 17), (13, 18), (14, 18), (14, 17), (14, 16), (14, 15), (14, 14), (15, 14), (15, 15), (15, 16), (15, 17), (15, 18), (16, 18), (16, 17), (16, 16), (16, 15), (16, 14), (17, 14), (17, 15), (17, 16), (17, 17), (17, 18), (17, 19), (18, 19), (19, 19)]\n",
            "SPP00000110000100010\n",
            "11P00000100000000001\n",
            "00P00000000001000000\n",
            "00P00001010101000000\n",
            "00P00000001000000001\n",
            "00P01000001010010101\n",
            "00P10000000000000000\n",
            "01P01100101010001100\n",
            "00P01110000000000010\n",
            "00P00100000000100000\n",
            "00PP0000001100000000\n",
            "101P0010010000000000\n",
            "010P0000000010010001\n",
            "000P1000000110101100\n",
            "101PPP01000001PPPP11\n",
            "110PPP0PP000PPPPPP01\n",
            "000PPP0PP000PPPPPP00\n",
            "000PPPPPP010PPPPPP00\n",
            "101PP1PPP1PPPPPPPP10\n",
            "01010111PPPPP0101PPE\n"
          ]
        }
      ],
      "source": [
        "solver = DFS(maze)\n",
        "solver.solve()\n",
        "path = solver.path\n",
        "\n",
        "print(path)\n",
        "solver.print_path(path)\n",
        "export_all(maze, solver, 'dfs.csv')"
      ]
    },
    {
      "cell_type": "code",
      "execution_count": 93,
      "id": "a635ede5e9942066",
      "metadata": {
        "ExecuteTime": {
          "end_time": "2024-02-16T13:00:03.419976Z",
          "start_time": "2024-02-16T13:00:03.319186Z"
        },
        "colab": {
          "base_uri": "https://localhost:8080/"
        },
        "id": "a635ede5e9942066",
        "outputId": "3d7991d6-8963-4c94-9eb9-8b8e6182ae92"
      },
      "outputs": [
        {
          "name": "stdout",
          "output_type": "stream",
          "text": [
            "[(0, 0), (1, 0), (2, 0), (2, 1), (2, 2), (2, 3), (2, 4), (2, 5), (2, 6), (2, 7), (2, 8), (2, 9), (2, 10), (3, 10), (3, 11), (3, 12), (3, 13), (3, 14), (3, 15), (3, 16), (4, 16), (5, 16), (6, 16), (7, 16), (8, 16), (9, 16), (10, 16), (11, 16), (11, 17), (11, 18), (12, 18), (13, 18), (14, 18), (15, 18), (16, 18), (17, 18), (17, 19), (18, 19), (19, 19)]\n",
            "SPP00000110000100010\n",
            "11P00000100000000001\n",
            "00P00000000001000000\n",
            "00P00001010101000000\n",
            "00P00000001000000001\n",
            "00P01000001010010101\n",
            "00P10000000000000000\n",
            "01P01100101010001100\n",
            "00P01110000000000010\n",
            "00P00100000000100000\n",
            "00PP0000001100000000\n",
            "101P0010010000000000\n",
            "010P0000000010010001\n",
            "000P1000000110101100\n",
            "101P0001000001000011\n",
            "110P0000000000000001\n",
            "000PPPPPPPPP00000000\n",
            "00000000001P00000000\n",
            "10100100010PPPPPPP10\n",
            "01010111000000101PPE\n"
          ]
        }
      ],
      "source": [
        "solver = BFS(maze)\n",
        "solver.solve()\n",
        "path = solver.path\n",
        "\n",
        "print(path)\n",
        "solver.print_path(path)\n",
        "export_all(maze, solver, 'bfs.csv')"
      ]
    },
    {
      "cell_type": "code",
      "execution_count": 94,
      "id": "50476cbd01182c37",
      "metadata": {
        "ExecuteTime": {
          "end_time": "2024-02-16T13:00:06.739563Z",
          "start_time": "2024-02-16T13:00:04.953417Z"
        },
        "colab": {
          "base_uri": "https://localhost:8080/"
        },
        "id": "50476cbd01182c37",
        "outputId": "4e956eb4-33ef-4bbd-af99-71079c95c4b6"
      },
      "outputs": [
        {
          "name": "stdout",
          "output_type": "stream",
          "text": [
            "[(0, 0), (1, 0), (2, 0), (2, 1), (2, 2), (2, 3), (2, 4), (2, 5), (2, 6), (2, 7), (2, 8), (2, 9), (2, 10), (3, 10), (3, 11), (3, 12), (3, 13), (3, 14), (3, 15), (3, 16), (3, 17), (3, 18), (4, 18), (4, 17), (4, 16), (4, 15), (4, 14), (5, 14), (5, 15), (5, 16), (5, 17), (6, 17), (6, 18), (7, 18), (7, 17), (7, 16), (7, 15), (8, 15), (8, 16), (8, 17), (8, 18), (8, 19), (9, 19), (10, 19), (10, 18), (11, 18), (11, 19), (12, 19), (12, 18), (12, 17), (12, 16), (12, 15), (13, 15), (13, 16), (13, 17), (13, 18), (14, 18), (15, 18), (16, 18), (16, 17), (17, 17), (17, 18), (17, 19), (18, 19), (19, 19)]\n",
            "SPP00000110000100010\n",
            "11P00000100000000001\n",
            "00P00000000001000000\n",
            "00P00001010101000000\n",
            "00P00000001000000001\n",
            "00P01000001010010101\n",
            "00P10000000000000000\n",
            "01P01100101010001100\n",
            "00P01110000000000010\n",
            "00P00100000000100000\n",
            "00PP0000001100000000\n",
            "101P0010010000000000\n",
            "010P0000000010010001\n",
            "000P1000000110101100\n",
            "101PPP01000001000011\n",
            "110PPP0PP000PP000001\n",
            "000PPP0PP000PP000000\n",
            "000PPPPPP010PP00PP00\n",
            "101PP1PPP1PPPPPPPP10\n",
            "01010111PPPPP0101PPE\n"
          ]
        }
      ],
      "source": [
        "solver = IDS(maze)\n",
        "solver.solve()\n",
        "path = solver.path\n",
        "\n",
        "print(path)\n",
        "solver.print_path(path)\n",
        "export_all(maze, solver, 'ids.csv')"
      ]
    },
    {
      "cell_type": "code",
      "execution_count": 95,
      "id": "318ff1a80012fc09",
      "metadata": {
        "ExecuteTime": {
          "end_time": "2024-02-16T13:00:10.425200Z",
          "start_time": "2024-02-16T13:00:10.357503Z"
        },
        "colab": {
          "base_uri": "https://localhost:8080/"
        },
        "id": "318ff1a80012fc09",
        "outputId": "e739e87e-ca95-4300-a0d5-b49c1b90d26b"
      },
      "outputs": [
        {
          "name": "stdout",
          "output_type": "stream",
          "text": [
            "[(0, 0), (1, 0), (2, 0), (2, 1), (2, 2), (2, 3), (3, 3), (3, 4), (4, 4), (5, 4), (5, 5), (5, 6), (6, 6), (6, 7), (7, 7), (7, 8), (8, 8), (8, 9), (8, 10), (8, 11), (8, 12), (9, 12), (10, 12), (10, 13), (10, 14), (11, 14), (12, 14), (12, 15), (13, 15), (14, 15), (15, 15), (15, 16), (16, 16), (16, 17), (17, 17), (17, 18), (17, 19), (18, 19), (19, 19)]\n",
            "SPP00000110000100010\n",
            "11P00000100000000001\n",
            "00P00000000001000000\n",
            "00PP0001010101000000\n",
            "000PPP00001000000001\n",
            "00001P00001010010101\n",
            "00010PP0000000000000\n",
            "010011PP101010001100\n",
            "0000111PP00000000010\n",
            "00000100P00000100000\n",
            "00000000P01100000000\n",
            "10100010P10000000000\n",
            "01000000PPP010010001\n",
            "0000100000P110101100\n",
            "1010000100PPP1000011\n",
            "110000000000PPPP0001\n",
            "000000000000000PP000\n",
            "0000000000100000PP00\n",
            "10100100010000000P10\n",
            "01010111000000101PPE\n"
          ]
        }
      ],
      "source": [
        "solver = AStar(maze)\n",
        "solver.solve()\n",
        "path = solver.path\n",
        "\n",
        "print(path)\n",
        "solver.print_path(path)\n",
        "export_all(maze, solver, 'a_star.csv')"
      ]
    }
  ],
  "metadata": {
    "colab": {
      "provenance": []
    },
    "kernelspec": {
      "display_name": "Python 3 (ipykernel)",
      "language": "python",
      "name": "python3"
    },
    "language_info": {
      "codemirror_mode": {
        "name": "ipython",
        "version": 3
      },
      "file_extension": ".py",
      "mimetype": "text/x-python",
      "name": "python",
      "nbconvert_exporter": "python",
      "pygments_lexer": "ipython3",
      "version": "3.12.0"
    }
  },
  "nbformat": 4,
  "nbformat_minor": 5
}
